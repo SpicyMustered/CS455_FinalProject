{
  "nbformat": 4,
  "nbformat_minor": 0,
  "metadata": {
    "colab": {
      "name": "EssayAnalysis.ipynb",
      "provenance": []
    },
    "kernelspec": {
      "name": "python3",
      "display_name": "Python 3"
    },
    "language_info": {
      "name": "python"
    }
  },
  "cells": [
    {
      "cell_type": "markdown",
      "source": [
        "# CS455 Final Project"
      ],
      "metadata": {
        "id": "2at2sm4_4g21"
      }
    },
    {
      "cell_type": "code",
      "execution_count": null,
      "metadata": {
        "id": "wbF-_XUh4fvJ"
      },
      "outputs": [],
      "source": [
        "#import stuff\n",
        "\n",
        "testing stuff"
      ]
    }
  ]
}